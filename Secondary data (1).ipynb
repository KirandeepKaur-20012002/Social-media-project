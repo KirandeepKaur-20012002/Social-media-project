{
 "cells": [
  {
   "cell_type": "markdown",
   "id": "191c9d69-7bca-4b07-a139-685889b03387",
   "metadata": {},
   "source": [
    "# Importing the data"
   ]
  },
  {
   "cell_type": "code",
   "execution_count": 3,
   "id": "8b368ffc-956e-4e09-acde-7d6f45debfdf",
   "metadata": {},
   "outputs": [],
   "source": [
    "#import the important libraries for data exploration purposes\n",
    "import numpy as np\n",
    "import pandas as pd\n",
    "import matplotlib.pyplot as plt\n",
    "import seaborn as sns"
   ]
  },
  {
   "cell_type": "markdown",
   "id": "07e535e2-5edc-42db-93df-f7829991a5ce",
   "metadata": {},
   "source": [
    "# Read the data"
   ]
  },
  {
   "cell_type": "code",
   "execution_count": 5,
   "id": "6172ae43-0f73-4975-892a-9d4c532c9f7f",
   "metadata": {},
   "outputs": [],
   "source": [
    "dataset = pd.read_csv("https://github.com/KirandeepKaur-20012002/Social-media-project/blob/main/vehicle_registration_insurance_dataset.csv", encoding=\"latin1\")"
   ]
  },
  {
   "cell_type": "code",
   "execution_count": 6,
   "id": "66594d50-93ab-4e70-b917-0bb3aa23d094",
   "metadata": {},
   "outputs": [
    {
     "name": "stdout",
     "output_type": "stream",
     "text": [
      "<class 'pandas.core.frame.DataFrame'>\n",
      "RangeIndex: 2000 entries, 0 to 1999\n",
      "Data columns (total 12 columns):\n",
      " #   Column                   Non-Null Count  Dtype \n",
      "---  ------                   --------------  ----- \n",
      " 0   Vehicle ID               2000 non-null   object\n",
      " 1   Registration State       2000 non-null   object\n",
      " 2   Vehicle Make             2000 non-null   object\n",
      " 3   Vehicle Model            2000 non-null   object\n",
      " 4   Vehicle Year             2000 non-null   int64 \n",
      " 5   Insurance Provider       2000 non-null   object\n",
      " 6   Insurance Policy Type    2000 non-null   object\n",
      " 7   Insurance Claim History  2000 non-null   object\n",
      " 8   Policy Expiration Date   2000 non-null   object\n",
      " 9   Vehicle Condition        2000 non-null   object\n",
      " 10  Owner Age Group          2000 non-null   object\n",
      " 11  Accident History         2000 non-null   int64 \n",
      "dtypes: int64(2), object(10)\n",
      "memory usage: 187.6+ KB\n"
     ]
    }
   ],
   "source": [
    "#Understanding the data characteristics\n",
    "dataset.info()"
   ]
  },
  {
   "cell_type": "code",
   "execution_count": 7,
   "id": "d3bca650-4e09-4bd5-a21b-dd5a87cbfef8",
   "metadata": {},
   "outputs": [
    {
     "data": {
      "text/html": [
       "<div>\n",
       "<style scoped>\n",
       "    .dataframe tbody tr th:only-of-type {\n",
       "        vertical-align: middle;\n",
       "    }\n",
       "\n",
       "    .dataframe tbody tr th {\n",
       "        vertical-align: top;\n",
       "    }\n",
       "\n",
       "    .dataframe thead th {\n",
       "        text-align: right;\n",
       "    }\n",
       "</style>\n",
       "<table border=\"1\" class=\"dataframe\">\n",
       "  <thead>\n",
       "    <tr style=\"text-align: right;\">\n",
       "      <th></th>\n",
       "      <th>Vehicle ID</th>\n",
       "      <th>Registration State</th>\n",
       "      <th>Vehicle Make</th>\n",
       "      <th>Vehicle Model</th>\n",
       "      <th>Vehicle Year</th>\n",
       "      <th>Insurance Provider</th>\n",
       "      <th>Insurance Policy Type</th>\n",
       "      <th>Insurance Claim History</th>\n",
       "      <th>Policy Expiration Date</th>\n",
       "      <th>Vehicle Condition</th>\n",
       "      <th>Owner Age Group</th>\n",
       "      <th>Accident History</th>\n",
       "    </tr>\n",
       "  </thead>\n",
       "  <tbody>\n",
       "    <tr>\n",
       "      <th>0</th>\n",
       "      <td>VID00001</td>\n",
       "      <td>IL</td>\n",
       "      <td>Mercedes</td>\n",
       "      <td>F-150</td>\n",
       "      <td>2004</td>\n",
       "      <td>Geico</td>\n",
       "      <td>Collision</td>\n",
       "      <td>Yes</td>\n",
       "      <td>2025-06-01</td>\n",
       "      <td>Fair</td>\n",
       "      <td>36-45</td>\n",
       "      <td>0</td>\n",
       "    </tr>\n",
       "    <tr>\n",
       "      <th>1</th>\n",
       "      <td>VID00002</td>\n",
       "      <td>NY</td>\n",
       "      <td>Mercedes</td>\n",
       "      <td>F-150</td>\n",
       "      <td>2000</td>\n",
       "      <td>Progressive</td>\n",
       "      <td>Liability</td>\n",
       "      <td>Yes</td>\n",
       "      <td>2025-04-26</td>\n",
       "      <td>Poor</td>\n",
       "      <td>18-25</td>\n",
       "      <td>3</td>\n",
       "    </tr>\n",
       "    <tr>\n",
       "      <th>2</th>\n",
       "      <td>VID00003</td>\n",
       "      <td>MI</td>\n",
       "      <td>Volkswagen</td>\n",
       "      <td>Civic</td>\n",
       "      <td>2023</td>\n",
       "      <td>State Farm</td>\n",
       "      <td>Liability</td>\n",
       "      <td>Yes</td>\n",
       "      <td>2026-02-15</td>\n",
       "      <td>Fair</td>\n",
       "      <td>26-35</td>\n",
       "      <td>3</td>\n",
       "    </tr>\n",
       "    <tr>\n",
       "      <th>3</th>\n",
       "      <td>VID00004</td>\n",
       "      <td>FL</td>\n",
       "      <td>Nissan</td>\n",
       "      <td>C-Class</td>\n",
       "      <td>2000</td>\n",
       "      <td>Allstate</td>\n",
       "      <td>Collision</td>\n",
       "      <td>Yes</td>\n",
       "      <td>2025-12-10</td>\n",
       "      <td>Good</td>\n",
       "      <td>26-35</td>\n",
       "      <td>1</td>\n",
       "    </tr>\n",
       "    <tr>\n",
       "      <th>4</th>\n",
       "      <td>VID00005</td>\n",
       "      <td>IL</td>\n",
       "      <td>Mercedes</td>\n",
       "      <td>Silverado</td>\n",
       "      <td>2004</td>\n",
       "      <td>Geico</td>\n",
       "      <td>Full Coverage</td>\n",
       "      <td>Yes</td>\n",
       "      <td>2025-07-05</td>\n",
       "      <td>Poor</td>\n",
       "      <td>26-35</td>\n",
       "      <td>5</td>\n",
       "    </tr>\n",
       "  </tbody>\n",
       "</table>\n",
       "</div>"
      ],
      "text/plain": [
       "  Vehicle ID Registration State Vehicle Make Vehicle Model  Vehicle Year  \\\n",
       "0   VID00001                 IL     Mercedes         F-150          2004   \n",
       "1   VID00002                 NY     Mercedes         F-150          2000   \n",
       "2   VID00003                 MI   Volkswagen         Civic          2023   \n",
       "3   VID00004                 FL       Nissan       C-Class          2000   \n",
       "4   VID00005                 IL     Mercedes     Silverado          2004   \n",
       "\n",
       "  Insurance Provider Insurance Policy Type Insurance Claim History  \\\n",
       "0              Geico             Collision                     Yes   \n",
       "1        Progressive             Liability                     Yes   \n",
       "2         State Farm             Liability                     Yes   \n",
       "3           Allstate             Collision                     Yes   \n",
       "4              Geico         Full Coverage                     Yes   \n",
       "\n",
       "  Policy Expiration Date Vehicle Condition Owner Age Group  Accident History  \n",
       "0             2025-06-01              Fair           36-45                 0  \n",
       "1             2025-04-26              Poor           18-25                 3  \n",
       "2             2026-02-15              Fair           26-35                 3  \n",
       "3             2025-12-10              Good           26-35                 1  \n",
       "4             2025-07-05              Poor           26-35                 5  "
      ]
     },
     "execution_count": 7,
     "metadata": {},
     "output_type": "execute_result"
    }
   ],
   "source": [
    "#Looking at the first 5 rows of dataset\n",
    "dataset.head()"
   ]
  },
  {
   "cell_type": "code",
   "execution_count": 8,
   "id": "bbae26ea-2d5c-4a8b-baef-ca05e69c9294",
   "metadata": {},
   "outputs": [
    {
     "data": {
      "text/plain": [
       "(2000, 12)"
      ]
     },
     "execution_count": 8,
     "metadata": {},
     "output_type": "execute_result"
    }
   ],
   "source": [
    "dataset.shape"
   ]
  },
  {
   "cell_type": "code",
   "execution_count": 9,
   "id": "aad3b3f2-3b6c-499c-a313-841ff3e9a12d",
   "metadata": {},
   "outputs": [
    {
     "data": {
      "text/plain": [
       "Vehicle ID                 0\n",
       "Registration State         0\n",
       "Vehicle Make               0\n",
       "Vehicle Model              0\n",
       "Vehicle Year               0\n",
       "Insurance Provider         0\n",
       "Insurance Policy Type      0\n",
       "Insurance Claim History    0\n",
       "Policy Expiration Date     0\n",
       "Vehicle Condition          0\n",
       "Owner Age Group            0\n",
       "Accident History           0\n",
       "dtype: int64"
      ]
     },
     "execution_count": 9,
     "metadata": {},
     "output_type": "execute_result"
    }
   ],
   "source": [
    "#Looking for any null values\n",
    "dataset.isnull().sum()"
   ]
  },
  {
   "cell_type": "code",
   "execution_count": 13,
   "id": "3a4d77ca-8acd-448c-9650-f7b4807cb7cb",
   "metadata": {},
   "outputs": [
    {
     "name": "stdout",
     "output_type": "stream",
     "text": [
      "     Vehicle ID Registration State Vehicle Make Vehicle Model  Vehicle Year  \\\n",
      "0      VID00001                 IL     Mercedes         F-150          2004   \n",
      "1      VID00002                 NY     Mercedes         F-150          2000   \n",
      "2      VID00003                 MI   Volkswagen         Civic          2023   \n",
      "3      VID00004                 FL       Nissan       C-Class          2000   \n",
      "4      VID00005                 IL     Mercedes     Silverado          2004   \n",
      "...         ...                ...          ...           ...           ...   \n",
      "1995   VID01996                 IL          Kia        Altima          2010   \n",
      "1996   VID01997                 TX      Hyundai       Sorento          2003   \n",
      "1997   VID01998                 MI        Honda         Jetta          2008   \n",
      "1998   VID01999                 TX          Kia       Sorento          2002   \n",
      "1999   VID02000                 IL         Ford       Elantra          2009   \n",
      "\n",
      "     Insurance Provider Insurance Policy Type Insurance Claim History  \\\n",
      "0                 Geico             Collision                     Yes   \n",
      "1           Progressive             Liability                     Yes   \n",
      "2            State Farm             Liability                     Yes   \n",
      "3              Allstate             Collision                     Yes   \n",
      "4                 Geico         Full Coverage                     Yes   \n",
      "...                 ...                   ...                     ...   \n",
      "1995            Farmers         Comprehensive                      No   \n",
      "1996     Liberty Mutual             Collision                      No   \n",
      "1997               USAA         Comprehensive                     Yes   \n",
      "1998         State Farm         Comprehensive                      No   \n",
      "1999           Allstate         Comprehensive                     Yes   \n",
      "\n",
      "     Policy Expiration Date Vehicle Condition Owner Age Group  \\\n",
      "0                2025-06-01              Fair           36-45   \n",
      "1                2025-04-26              Poor           18-25   \n",
      "2                2026-02-15              Fair           26-35   \n",
      "3                2025-12-10              Good           26-35   \n",
      "4                2025-07-05              Poor           26-35   \n",
      "...                     ...               ...             ...   \n",
      "1995             2026-01-22              Good           46-60   \n",
      "1996             2025-11-07              Fair           36-45   \n",
      "1997             2025-06-30              Fair           36-45   \n",
      "1998             2025-05-07              Poor           46-60   \n",
      "1999             2025-06-21              Poor           36-45   \n",
      "\n",
      "      Accident History  \n",
      "0                    0  \n",
      "1                    3  \n",
      "2                    3  \n",
      "3                    1  \n",
      "4                    5  \n",
      "...                ...  \n",
      "1995                 4  \n",
      "1996                 0  \n",
      "1997                 3  \n",
      "1998                 3  \n",
      "1999                 4  \n",
      "\n",
      "[2000 rows x 12 columns]\n"
     ]
    }
   ],
   "source": [
    "#drop rows with missing values\n",
    "dataset = dataset.dropna()\n",
    "print(dataset)"
   ]
  },
  {
   "cell_type": "code",
   "execution_count": 18,
   "id": "cffa9426-69d2-47a5-8e85-07396acfd718",
   "metadata": {},
   "outputs": [
    {
     "name": "stdout",
     "output_type": "stream",
     "text": [
      "     Vehicle ID Registration State Vehicle Make Vehicle Model  Vehicle Year  \\\n",
      "0      VID00001                 IL     Mercedes         F-150          2004   \n",
      "1      VID00002                 NY     Mercedes         F-150          2000   \n",
      "2      VID00003                 MI   Volkswagen         Civic          2023   \n",
      "3      VID00004                 FL       Nissan       C-Class          2000   \n",
      "4      VID00005                 IL     Mercedes     Silverado          2004   \n",
      "...         ...                ...          ...           ...           ...   \n",
      "1995   VID01996                 IL          Kia        Altima          2010   \n",
      "1996   VID01997                 TX      Hyundai       Sorento          2003   \n",
      "1997   VID01998                 MI        Honda         Jetta          2008   \n",
      "1998   VID01999                 TX          Kia       Sorento          2002   \n",
      "1999   VID02000                 IL         Ford       Elantra          2009   \n",
      "\n",
      "     Insurance Provider Insurance Policy Type Insurance Claim History  \\\n",
      "0                 Geico             Collision                     Yes   \n",
      "1           Progressive             Liability                     Yes   \n",
      "2            State Farm             Liability                     Yes   \n",
      "3              Allstate             Collision                     Yes   \n",
      "4                 Geico         Full Coverage                     Yes   \n",
      "...                 ...                   ...                     ...   \n",
      "1995            Farmers         Comprehensive                      No   \n",
      "1996     Liberty Mutual             Collision                      No   \n",
      "1997               USAA         Comprehensive                     Yes   \n",
      "1998         State Farm         Comprehensive                      No   \n",
      "1999           Allstate         Comprehensive                     Yes   \n",
      "\n",
      "     Policy Expiration Date Vehicle Condition Owner Age Group  \\\n",
      "0                2025-06-01              Fair           36-45   \n",
      "1                2025-04-26              Poor           18-25   \n",
      "2                2026-02-15              Fair           26-35   \n",
      "3                2025-12-10              Good           26-35   \n",
      "4                2025-07-05              Poor           26-35   \n",
      "...                     ...               ...             ...   \n",
      "1995             2026-01-22              Good           46-60   \n",
      "1996             2025-11-07              Fair           36-45   \n",
      "1997             2025-06-30              Fair           36-45   \n",
      "1998             2025-05-07              Poor           46-60   \n",
      "1999             2025-06-21              Poor           36-45   \n",
      "\n",
      "      Accident History  \n",
      "0                    0  \n",
      "1                    3  \n",
      "2                    3  \n",
      "3                    1  \n",
      "4                    5  \n",
      "...                ...  \n",
      "1995                 4  \n",
      "1996                 0  \n",
      "1997                 3  \n",
      "1998                 3  \n",
      "1999                 4  \n",
      "\n",
      "[2000 rows x 12 columns]\n"
     ]
    }
   ],
   "source": [
    "#remove duplicates\n",
    "dataset=dataset.drop_duplicates()\n",
    "print(dataset)"
   ]
  },
  {
   "cell_type": "code",
   "execution_count": 20,
   "id": "585c931c-4eba-4717-9e5c-47ab88b3073d",
   "metadata": {},
   "outputs": [
    {
     "data": {
      "text/plain": [
       "Vehicle ID                 object\n",
       "Registration State         object\n",
       "Vehicle Make               object\n",
       "Vehicle Model              object\n",
       "Vehicle Year                int64\n",
       "Insurance Provider         object\n",
       "Insurance Policy Type      object\n",
       "Insurance Claim History    object\n",
       "Policy Expiration Date     object\n",
       "Vehicle Condition          object\n",
       "Owner Age Group            object\n",
       "Accident History            int64\n",
       "dtype: object"
      ]
     },
     "execution_count": 20,
     "metadata": {},
     "output_type": "execute_result"
    }
   ],
   "source": [
    "#Checking the datatypes\n",
    "dataset.dtypes"
   ]
  },
  {
   "cell_type": "code",
   "execution_count": 22,
   "id": "a438e959-4813-4be9-9493-39134d32fb01",
   "metadata": {},
   "outputs": [
    {
     "name": "stdout",
     "output_type": "stream",
     "text": [
      "Data Structure\n",
      "<class 'pandas.core.frame.DataFrame'>\n",
      "RangeIndex: 2000 entries, 0 to 1999\n",
      "Data columns (total 12 columns):\n",
      " #   Column                   Non-Null Count  Dtype \n",
      "---  ------                   --------------  ----- \n",
      " 0   Vehicle ID               2000 non-null   object\n",
      " 1   Registration State       2000 non-null   object\n",
      " 2   Vehicle Make             2000 non-null   object\n",
      " 3   Vehicle Model            2000 non-null   object\n",
      " 4   Vehicle Year             2000 non-null   int64 \n",
      " 5   Insurance Provider       2000 non-null   object\n",
      " 6   Insurance Policy Type    2000 non-null   object\n",
      " 7   Insurance Claim History  2000 non-null   object\n",
      " 8   Policy Expiration Date   2000 non-null   object\n",
      " 9   Vehicle Condition        2000 non-null   object\n",
      " 10  Owner Age Group          2000 non-null   object\n",
      " 11  Accident History         2000 non-null   int64 \n",
      "dtypes: int64(2), object(10)\n",
      "memory usage: 187.6+ KB\n",
      "None\n",
      "   \n",
      "\n",
      "\n"
     ]
    }
   ],
   "source": [
    "#Examining the structure of data\n",
    "print('Data Structure')\n",
    "print(dataset.info())\n",
    "print(\"   \")\n",
    "print(\"\\n\")"
   ]
  },
  {
   "cell_type": "code",
   "execution_count": 24,
   "id": "5bcfc114-81ca-464f-a527-f5b84bfec8d9",
   "metadata": {},
   "outputs": [
    {
     "name": "stdout",
     "output_type": "stream",
     "text": [
      "Data Distributions\n",
      "       Vehicle Year  Accident History\n",
      "count    2000.00000       2000.000000\n",
      "mean     2011.05150          2.495500\n",
      "std         6.83756          1.722052\n",
      "min      2000.00000          0.000000\n",
      "25%      2005.00000          1.000000\n",
      "50%      2011.00000          2.000000\n",
      "75%      2017.00000          4.000000\n",
      "max      2023.00000          5.000000\n"
     ]
    }
   ],
   "source": [
    "#Examining the distributions\n",
    "print(\"Data Distributions\")\n",
    "print(dataset.describe())"
   ]
  },
  {
   "cell_type": "code",
   "execution_count": 26,
   "id": "cf69b131-e7f1-480b-983b-8d0416669ae5",
   "metadata": {},
   "outputs": [
    {
     "name": "stdout",
     "output_type": "stream",
     "text": [
      "       Vehicle ID Registration State Vehicle Make Vehicle Model  \\\n",
      "count        2000               2000         2000          2000   \n",
      "unique       2000                 10           10            10   \n",
      "top      VID00001                 IL    Chevrolet         Jetta   \n",
      "freq            1                219          215           218   \n",
      "\n",
      "       Insurance Provider Insurance Policy Type Insurance Claim History  \\\n",
      "count                2000                  2000                    2000   \n",
      "unique                  7                     4                       2   \n",
      "top            State Farm         Comprehensive                      No   \n",
      "freq                  319                   518                    1009   \n",
      "\n",
      "       Policy Expiration Date Vehicle Condition Owner Age Group  \n",
      "count                    2000              2000            2000  \n",
      "unique                    336                 3               5  \n",
      "top                2026-01-28              Poor           18-25  \n",
      "freq                       12               692             426  \n"
     ]
    }
   ],
   "source": [
    "#Extracting more specific statistics on data objects by including object type\n",
    "print(dataset.describe(include=['object']))"
   ]
  },
  {
   "cell_type": "code",
   "execution_count": 28,
   "id": "41b20b8d-945b-4f8b-b0f9-995997f7697d",
   "metadata": {},
   "outputs": [
    {
     "name": "stdout",
     "output_type": "stream",
     "text": [
      "Z-Scores\n",
      "      Vehicle Year  Accident History\n",
      "0        -1.031547         -1.449506\n",
      "1        -1.616697          0.293038\n",
      "2         1.747917          0.293038\n",
      "3        -1.616697         -0.868658\n",
      "4        -1.031547          1.454733\n",
      "...            ...               ...\n",
      "1995     -0.153821          0.873886\n",
      "1996     -1.177834         -1.449506\n",
      "1997     -0.446397          0.293038\n",
      "1998     -1.324122          0.293038\n",
      "1999     -0.300109          0.873886\n",
      "\n",
      "[2000 rows x 2 columns]\n",
      "Outliers:\n"
     ]
    }
   ],
   "source": [
    "#Simple Z-Score method to identify outliers in the whole dataset\n",
    "\n",
    "#Import necessary libraries\n",
    "import scipy.stats as stats\n",
    "\n",
    "#Selecting only numeric columns\n",
    "numeric_columns=dataset.select_dtypes(include=['number'])\n",
    "\n",
    "#Calculation of z-score for all the datasets\n",
    "z_scores = stats.zscore(numeric_columns)\n",
    "\n",
    "#Print the z scores\n",
    "print(\"Z-Scores\")\n",
    "print(z_scores)\n",
    "\n",
    "#Setting the threshold for detecting outliers\n",
    "threshold = 2\n",
    "\n",
    "#Finding Outliers\n",
    "outliers = np.where(np.abs(z_scores) > threshold)\n",
    "\n",
    "# Print the outliers\n",
    "print(\"Outliers:\")\n",
    "for index in outliers[0]:\n",
    "    print(dataset[index])"
   ]
  },
  {
   "cell_type": "markdown",
   "id": "5373f7f0-bb24-4781-b83d-f5f011d79e10",
   "metadata": {},
   "source": [
    "# Feature Selection"
   ]
  },
  {
   "cell_type": "code",
   "execution_count": 31,
   "id": "c712756a-56d6-4cf8-a860-cadba5730dd6",
   "metadata": {},
   "outputs": [
    {
     "name": "stdout",
     "output_type": "stream",
     "text": [
      "Missing Values Ratio:\n"
     ]
    },
    {
     "data": {
      "text/plain": [
       "Vehicle ID                 0.0\n",
       "Registration State         0.0\n",
       "Vehicle Make               0.0\n",
       "Vehicle Model              0.0\n",
       "Vehicle Year               0.0\n",
       "Insurance Provider         0.0\n",
       "Insurance Policy Type      0.0\n",
       "Insurance Claim History    0.0\n",
       "Policy Expiration Date     0.0\n",
       "Vehicle Condition          0.0\n",
       "Owner Age Group            0.0\n",
       "Accident History           0.0\n",
       "dtype: float64"
      ]
     },
     "execution_count": 31,
     "metadata": {},
     "output_type": "execute_result"
    }
   ],
   "source": [
    "#1 Missing Value Ratio\n",
    "\n",
    "#Checking the percentage of missing values\n",
    "print(\"Missing Values Ratio:\")\n",
    "dataset.isnull().sum()/len(dataset)*100"
   ]
  },
  {
   "cell_type": "code",
   "execution_count": 33,
   "id": "8e773860-609f-4bef-8bd5-a3e0d2cb24b8",
   "metadata": {},
   "outputs": [
    {
     "name": "stdout",
     "output_type": "stream",
     "text": [
      "Variance of all numeric columns:\n"
     ]
    },
    {
     "data": {
      "text/plain": [
       "Vehicle Year        46.752224\n",
       "Accident History     2.965462\n",
       "dtype: float64"
      ]
     },
     "execution_count": 33,
     "metadata": {},
     "output_type": "execute_result"
    }
   ],
   "source": [
    "#2 Low Variance Filter\n",
    "\n",
    "#Selecting only numeric columns\n",
    "numeric_columns=dataset.select_dtypes(include=['number'])\n",
    "\n",
    "#Checking the variance of columns with numeric data \n",
    "print(\"Variance of all numeric columns:\")\n",
    "numeric_columns.var()"
   ]
  },
  {
   "cell_type": "code",
   "execution_count": 35,
   "id": "241da474-6ba8-4cb6-887e-9e1d71ea0bab",
   "metadata": {},
   "outputs": [
    {
     "data": {
      "text/html": [
       "<div>\n",
       "<style scoped>\n",
       "    .dataframe tbody tr th:only-of-type {\n",
       "        vertical-align: middle;\n",
       "    }\n",
       "\n",
       "    .dataframe tbody tr th {\n",
       "        vertical-align: top;\n",
       "    }\n",
       "\n",
       "    .dataframe thead th {\n",
       "        text-align: right;\n",
       "    }\n",
       "</style>\n",
       "<table border=\"1\" class=\"dataframe\">\n",
       "  <thead>\n",
       "    <tr style=\"text-align: right;\">\n",
       "      <th></th>\n",
       "      <th>Vehicle Year</th>\n",
       "      <th>Accident History</th>\n",
       "    </tr>\n",
       "  </thead>\n",
       "  <tbody>\n",
       "    <tr>\n",
       "      <th>Vehicle Year</th>\n",
       "      <td>1.000000</td>\n",
       "      <td>0.021836</td>\n",
       "    </tr>\n",
       "    <tr>\n",
       "      <th>Accident History</th>\n",
       "      <td>0.021836</td>\n",
       "      <td>1.000000</td>\n",
       "    </tr>\n",
       "  </tbody>\n",
       "</table>\n",
       "</div>"
      ],
      "text/plain": [
       "                  Vehicle Year  Accident History\n",
       "Vehicle Year          1.000000          0.021836\n",
       "Accident History      0.021836          1.000000"
      ]
     },
     "execution_count": 35,
     "metadata": {},
     "output_type": "execute_result"
    }
   ],
   "source": [
    "#3 High Correlation Filter\n",
    "numeric_columns.corr()"
   ]
  },
  {
   "cell_type": "code",
   "execution_count": 37,
   "id": "6efdafd0-ef4a-4c56-be71-ee9b9b674a2a",
   "metadata": {},
   "outputs": [
    {
     "data": {
      "image/png": "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",
      "text/plain": [
       "<Figure size 800x800 with 2 Axes>"
      ]
     },
     "metadata": {},
     "output_type": "display_data"
    }
   ],
   "source": [
    "#3 High Correlation Filter\n",
    "\n",
    "#Making a heatmap for looking high correlation \n",
    "plt.figure(figsize=(8,8))\n",
    "sns.heatmap(numeric_columns.corr(), annot=True)\n",
    "plt.title('Correlation Matrix',fontsize=25)\n",
    "plt.xlabel('Parameters',fontsize=20)\n",
    "plt.ylabel('Parameters', fontsize=20)\n",
    "plt.show()"
   ]
  },
  {
   "cell_type": "code",
   "execution_count": 45,
   "id": "0273ba0e-19c6-483f-af77-1dba51d12f25",
   "metadata": {},
   "outputs": [
    {
     "ename": "NameError",
     "evalue": "name 'result' is not defined",
     "output_type": "error",
     "traceback": [
      "\u001b[1;31m---------------------------------------------------------------------------\u001b[0m",
      "\u001b[1;31mNameError\u001b[0m                                 Traceback (most recent call last)",
      "Cell \u001b[1;32mIn[45], line 1\u001b[0m\n\u001b[1;32m----> 1\u001b[0m result\u001b[38;5;241m.\u001b[39mto_csv(\u001b[38;5;124mr\u001b[39m\u001b[38;5;124m\"\u001b[39m\u001b[38;5;124mC:\u001b[39m\u001b[38;5;124m\\\u001b[39m\u001b[38;5;124mUsers\u001b[39m\u001b[38;5;124m\\\u001b[39m\u001b[38;5;124mjagriti\u001b[39m\u001b[38;5;124m\\\u001b[39m\u001b[38;5;124mDownloads\u001b[39m\u001b[38;5;124m\\\u001b[39m\u001b[38;5;124mSocial Media Assisgnment\u001b[39m\u001b[38;5;124m\\\u001b[39m\u001b[38;5;124msenti_analysis_result.csv\u001b[39m\u001b[38;5;124m\"\u001b[39m,index \u001b[38;5;241m=\u001b[39m \u001b[38;5;28;01mFalse\u001b[39;00m)\n\u001b[0;32m      2\u001b[0m \u001b[38;5;28mprint\u001b[39m\n",
      "\u001b[1;31mNameError\u001b[0m: name 'result' is not defined"
     ]
    }
   ],
   "source": [
    "result.to_csv(r\"C:\\Users\\jagriti\\Downloads\\Social Media Assisgnment\\senti_analysis_result.csv\",index = False)\n",
    "print"
   ]
  },
  {
   "cell_type": "code",
   "execution_count": null,
   "id": "9f295124-15cb-4b4c-ba6d-be0da98e8373",
   "metadata": {},
   "outputs": [],
   "source": []
  }
 ],
 "metadata": {
  "kernelspec": {
   "display_name": "Python [conda env:base] *",
   "language": "python",
   "name": "conda-base-py"
  },
  "language_info": {
   "codemirror_mode": {
    "name": "ipython",
    "version": 3
   },
   "file_extension": ".py",
   "mimetype": "text/x-python",
   "name": "python",
   "nbconvert_exporter": "python",
   "pygments_lexer": "ipython3",
   "version": "3.12.7"
  }
 },
 "nbformat": 4,
 "nbformat_minor": 5
}
